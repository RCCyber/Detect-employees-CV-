{
  "nbformat": 4,
  "nbformat_minor": 0,
  "metadata": {
    "colab": {
      "name": "detect_employees.ipynb",
      "provenance": [],
      "collapsed_sections": [],
      "authorship_tag": "ABX9TyOdLkyb1N3+l6Bm7g2jrbKf",
      "include_colab_link": true
    },
    "kernelspec": {
      "name": "python3",
      "display_name": "Python 3"
    },
    "language_info": {
      "name": "python"
    },
    "accelerator": "GPU"
  },
  "cells": [
    {
      "cell_type": "markdown",
      "metadata": {
        "id": "view-in-github",
        "colab_type": "text"
      },
      "source": [
        "<a href=\"https://colab.research.google.com/github/RCCyber/RCCyber/blob/main/detect_employees.ipynb\" target=\"_parent\"><img src=\"https://colab.research.google.com/assets/colab-badge.svg\" alt=\"Open In Colab\"/></a>"
      ]
    },
    {
      "cell_type": "code",
      "execution_count": null,
      "metadata": {
        "id": "WxeZWVjtXb93"
      },
      "outputs": [],
      "source": [
        "from keras.preprocessing.image import ImageDataGenerator\n",
        "from keras.models import Sequential, Model\n",
        "from keras.applications.inception_v3 import InceptionV3\n",
        "from keras.callbacks import ModelCheckpoint, EarlyStopping\n",
        "from tensorflow.keras.optimizers import SGD\n",
        "from keras.layers import Dense, Activation, Flatten, Dropout\n",
        "\n",
        "from keras import backend as K\n",
        "K.image_dim_ordering='th'\n",
        "\n",
        "import numpy as np\n",
        "import pandas as pd\n",
        "import h5py\n",
        "\n",
        "import matplotlib.pyplot as plt"
      ]
    },
    {
      "cell_type": "code",
      "source": [
        "!cd /content/sample_data/ && unzip data.zip"
      ],
      "metadata": {
        "id": "InPsPWvHF33I"
      },
      "execution_count": null,
      "outputs": []
    },
    {
      "cell_type": "code",
      "source": [
        "inc_model=InceptionV3(include_top=False, \n",
        "                      weights='imagenet', \n",
        "                      input_shape=((116, 116, 3)))"
      ],
      "metadata": {
        "id": "hqubAErMX6Y4"
      },
      "execution_count": null,
      "outputs": []
    },
    {
      "cell_type": "code",
      "source": [
        "bottleneck_datagen = ImageDataGenerator(rescale=1./255)  #собственно, генератор\n",
        "    \n",
        "train_generator = bottleneck_datagen.flow_from_directory('/content/sample_data/data/train/',\n",
        "                                        target_size=(116, 116),\n",
        "                                        batch_size=32,\n",
        "                                        class_mode=None,\n",
        "                                        shuffle=False)\n",
        "\n",
        "validation_generator = bottleneck_datagen.flow_from_directory('/content/sample_data/data/validation/', \n",
        "                                                              target_size=(116, 116),\n",
        "                                                               batch_size=32,\n",
        "                                                               class_mode=None,\n",
        "                                                               shuffle=False)"
      ],
      "metadata": {
        "colab": {
          "base_uri": "https://localhost:8080/"
        },
        "id": "ECLPig0PX6t_",
        "outputId": "bb02afaa-d4b1-42a1-bb36-84f76657aa91"
      },
      "execution_count": null,
      "outputs": [
        {
          "output_type": "stream",
          "name": "stdout",
          "text": [
            "Found 2000 images belonging to 2 classes.\n",
            "Found 2000 images belonging to 2 classes.\n"
          ]
        }
      ]
    },
    {
      "cell_type": "code",
      "source": [
        "bottleneck_features_train = inc_model.predict(train_generator, 2000)\n",
        "np.save(open('bn_features_train.npy', 'wb'), bottleneck_features_train)\n",
        "\n",
        "bottleneck_features_validation = inc_model.predict(validation_generator, 2000)\n",
        "np.save(open('bn_features_validation.npy', 'wb'), bottleneck_features_validation)"
      ],
      "metadata": {
        "id": "WS_-v6IyX62A"
      },
      "execution_count": null,
      "outputs": []
    },
    {
      "cell_type": "code",
      "source": [
        "train_data = np.load(open('bn_features_train.npy', 'rb'))\n",
        "train_labels = np.array([0] * 1000 + [1] * 1000) \n",
        "\n",
        "validation_data = np.load(open('bn_features_validation.npy', 'rb'))\n",
        "validation_labels = np.array([0] * 1000 + [1] * 1000)"
      ],
      "metadata": {
        "id": "cK9h69B7X67z"
      },
      "execution_count": null,
      "outputs": []
    },
    {
      "cell_type": "code",
      "source": [
        "fc_model = Sequential()\n",
        "fc_model.add(Flatten(input_shape=train_data.shape[1:]))\n",
        "fc_model.add(Dense(64, activation='relu', name='dense_one'))\n",
        "fc_model.add(Dropout(0.5, name='dropout_one'))\n",
        "fc_model.add(Dense(64, activation='relu', name='dense_two'))\n",
        "fc_model.add(Dropout(0.5, name='dropout_two'))\n",
        "fc_model.add(Dense(1, activation='sigmoid', name='output'))\n",
        "\n",
        "fc_model.compile(optimizer='rmsprop', \n",
        "              loss='binary_crossentropy', \n",
        "              metrics=['accuracy'])"
      ],
      "metadata": {
        "id": "BgCGAA4ZX6-V"
      },
      "execution_count": null,
      "outputs": []
    },
    {
      "cell_type": "code",
      "source": [
        "#validation_labels = validation_labels.reshape(1, -1)\n",
        "#train_labels = train_labels.reshape(1, -1)\n",
        "print(validation_data.shape)\n",
        "print(validation_labels.shape)\n",
        "print(train_data.shape)\n",
        "print(train_labels.shape)"
      ],
      "metadata": {
        "colab": {
          "base_uri": "https://localhost:8080/"
        },
        "id": "YlXBESYgc81S",
        "outputId": "305e2a00-e211-4830-f92e-4de9f2db1703"
      },
      "execution_count": null,
      "outputs": [
        {
          "output_type": "stream",
          "name": "stdout",
          "text": [
            "(2000, 2, 2, 2048)\n",
            "(2000,)\n",
            "(2000, 2, 2, 2048)\n",
            "(2000,)\n"
          ]
        }
      ]
    },
    {
      "cell_type": "code",
      "source": [
        "callback = EarlyStopping(monitor='val_loss', patience=3)\n",
        "callbacks=[callback]"
      ],
      "metadata": {
        "id": "2h1KXL7EQ1Gw"
      },
      "execution_count": null,
      "outputs": []
    },
    {
      "cell_type": "code",
      "source": [
        "fc_model.fit(train_data, train_labels, epochs=50, batch_size=32, validation_data=(validation_data, validation_labels), callbacks=[callback])\n",
        "fc_model.save_weights('fc_inception_cats_dogs_250.hdf5') # сохраняем веса"
      ],
      "metadata": {
        "id": "iyI0kl9PX7FL",
        "colab": {
          "base_uri": "https://localhost:8080/"
        },
        "outputId": "89ec5520-3b87-4e74-e21c-fa22e3ed65bb"
      },
      "execution_count": null,
      "outputs": [
        {
          "output_type": "stream",
          "name": "stdout",
          "text": [
            "Epoch 1/50\n",
            "63/63 [==============================] - 0s 8ms/step - loss: 0.0024 - accuracy: 0.9995 - val_loss: 1.7948 - val_accuracy: 0.9455\n",
            "Epoch 2/50\n",
            "63/63 [==============================] - 1s 9ms/step - loss: 0.0043 - accuracy: 0.9975 - val_loss: 1.7436 - val_accuracy: 0.9515\n",
            "Epoch 3/50\n",
            "63/63 [==============================] - 1s 12ms/step - loss: 0.0058 - accuracy: 0.9985 - val_loss: 2.0246 - val_accuracy: 0.9400\n",
            "Epoch 4/50\n",
            "63/63 [==============================] - 0s 7ms/step - loss: 0.0084 - accuracy: 0.9990 - val_loss: 1.6936 - val_accuracy: 0.9450\n",
            "Epoch 5/50\n",
            "63/63 [==============================] - 1s 9ms/step - loss: 0.0017 - accuracy: 0.9990 - val_loss: 1.7769 - val_accuracy: 0.9455\n",
            "Epoch 6/50\n",
            "63/63 [==============================] - 0s 7ms/step - loss: 0.0032 - accuracy: 0.9975 - val_loss: 1.7802 - val_accuracy: 0.9470\n",
            "Epoch 7/50\n",
            "63/63 [==============================] - 0s 7ms/step - loss: 8.5275e-04 - accuracy: 1.0000 - val_loss: 1.5172 - val_accuracy: 0.9545\n",
            "Epoch 8/50\n",
            "63/63 [==============================] - 0s 7ms/step - loss: 0.0036 - accuracy: 0.9990 - val_loss: 1.4550 - val_accuracy: 0.9565\n",
            "Epoch 9/50\n",
            "63/63 [==============================] - 0s 7ms/step - loss: 0.0024 - accuracy: 0.9985 - val_loss: 1.4972 - val_accuracy: 0.9550\n",
            "Epoch 10/50\n",
            "63/63 [==============================] - 1s 9ms/step - loss: 0.0011 - accuracy: 1.0000 - val_loss: 1.5154 - val_accuracy: 0.9545\n",
            "Epoch 11/50\n",
            "63/63 [==============================] - 1s 9ms/step - loss: 0.0090 - accuracy: 0.9970 - val_loss: 1.5300 - val_accuracy: 0.9490\n"
          ]
        }
      ]
    },
    {
      "cell_type": "code",
      "source": [
        "fc_model.evaluate(validation_data, validation_labels)"
      ],
      "metadata": {
        "colab": {
          "base_uri": "https://localhost:8080/"
        },
        "id": "iHy5i4juVQ_x",
        "outputId": "02e79d5b-98c5-4c13-e9a9-35e5102b9956"
      },
      "execution_count": null,
      "outputs": [
        {
          "output_type": "stream",
          "name": "stdout",
          "text": [
            "63/63 [==============================] - 0s 3ms/step - loss: 1.5300 - accuracy: 0.9490\n"
          ]
        },
        {
          "output_type": "execute_result",
          "data": {
            "text/plain": [
              "[1.5300487279891968, 0.9490000009536743]"
            ]
          },
          "metadata": {},
          "execution_count": 47
        }
      ]
    },
    {
      "cell_type": "code",
      "source": [
        "weights_filename='fc_inception_cats_dogs_250.hdf5'\n",
        "x = Flatten()(inc_model.output)\n",
        "x = Dense(64, activation='relu', name='dense_one')(x)\n",
        "x = Dropout(0.5, name='dropout_one')(x)\n",
        "x = Dense(64, activation='relu', name='dense_two')(x)\n",
        "x = Dropout(0.5, name='dropout_two')(x)\n",
        "top_model=Dense(1, activation='sigmoid', name='output')(x)\n",
        "model = Model(inputs=inc_model.input, outputs=top_model)"
      ],
      "metadata": {
        "id": "VqFDwhcONz7p"
      },
      "execution_count": null,
      "outputs": []
    },
    {
      "cell_type": "code",
      "source": [
        "weights_filename='fc_inception_cats_dogs_250.hdf5'\n",
        "model.load_weights(weights_filename, by_name=True)"
      ],
      "metadata": {
        "id": "jDuUMoAiN0FR"
      },
      "execution_count": null,
      "outputs": []
    },
    {
      "cell_type": "code",
      "source": [
        "for layer in inc_model.layers[:205]:\n",
        "    layer.trainable = False"
      ],
      "metadata": {
        "id": "fvKoYSlnN0II"
      },
      "execution_count": null,
      "outputs": []
    },
    {
      "cell_type": "code",
      "source": [
        "model.compile(loss='binary_crossentropy',\n",
        "              optimizer=SGD(learning_rate=1e-4, momentum=0.9),\n",
        "                #optimizer='rmsprop',\n",
        "              metrics=['accuracy'])"
      ],
      "metadata": {
        "id": "yIyuGZG-N0Kv"
      },
      "execution_count": null,
      "outputs": []
    },
    {
      "cell_type": "code",
      "source": [
        "filepath=\"weights-improvement-{epoch:02d}-{val_accuracy:.2f}.hdf5\"\n",
        "checkpoint = ModelCheckpoint(filepath,  monitor='val_accuracy', verbose=2, save_best_only=True, mode='max')\n",
        "early_stop = EarlyStopping(monitor='val_loss',patience=7, verbose=1, mode='auto')\n",
        "callbacks_list = [checkpoint, early_stop]"
      ],
      "metadata": {
        "id": "rF1ZqdstN0Nc"
      },
      "execution_count": null,
      "outputs": []
    },
    {
      "cell_type": "code",
      "source": [
        "train_datagen = ImageDataGenerator(\n",
        "        rescale=1./255)#,\n",
        "        #shear_range=0.2,\n",
        "        #zoom_range=0.2,\n",
        "        #horizontal_flip=True)\n",
        "\n",
        "test_datagen = ImageDataGenerator(rescale=1./255)\n",
        "\n",
        "train_generator = train_datagen.flow_from_directory(\n",
        "        '/content/sample_data/data/train/',\n",
        "        target_size=(116, 116),\n",
        "        batch_size=32,\n",
        "        class_mode='binary')\n",
        "\n",
        "validation_generator = test_datagen.flow_from_directory(\n",
        "        '/content/sample_data/data/validation/',\n",
        "        target_size=(116, 116),\n",
        "        batch_size=32,\n",
        "        class_mode='binary')\n",
        "\n",
        "\n",
        "pred_generator=test_datagen.flow_from_directory('/content/sample_data/data/validation/',\n",
        "                                                     target_size=(116,116),\n",
        "                                                     batch_size=100,\n",
        "                                                     class_mode='binary')"
      ],
      "metadata": {
        "id": "SJ_CD3SoN0Py",
        "colab": {
          "base_uri": "https://localhost:8080/"
        },
        "outputId": "616c008c-bbc0-474b-de72-27074d1ef14a"
      },
      "execution_count": null,
      "outputs": [
        {
          "output_type": "stream",
          "name": "stdout",
          "text": [
            "Found 2000 images belonging to 2 classes.\n",
            "Found 2000 images belonging to 2 classes.\n",
            "Found 2000 images belonging to 2 classes.\n"
          ]
        }
      ]
    },
    {
      "cell_type": "code",
      "source": [
        "steps_per_epoch = 2000 // 32\n",
        "\n",
        "validation_steps = 2000 // 32"
      ],
      "metadata": {
        "id": "RZWzcp3jzKAk"
      },
      "execution_count": null,
      "outputs": []
    },
    {
      "cell_type": "code",
      "source": [
        "model.fit(\n",
        "        train_generator,\n",
        "        steps_per_epoch=steps_per_epoch,\n",
        "        epochs=200,\n",
        "        validation_data=validation_generator,\n",
        "        validation_steps=validation_steps,\n",
        "        #nb_val_samples=2000,\n",
        "        callbacks=callbacks_list)"
      ],
      "metadata": {
        "id": "syPe5-ulN0Sf",
        "colab": {
          "base_uri": "https://localhost:8080/"
        },
        "outputId": "878910a8-1cbe-4865-99d8-5b9d44e83000"
      },
      "execution_count": null,
      "outputs": [
        {
          "output_type": "stream",
          "name": "stdout",
          "text": [
            "Epoch 1/200\n",
            "62/62 [==============================] - ETA: 0s - loss: 0.3577 - accuracy: 0.9685\n",
            "Epoch 1: val_accuracy improved from -inf to 0.89718, saving model to weights-improvement-01-0.90.hdf5\n",
            "62/62 [==============================] - 12s 116ms/step - loss: 0.3577 - accuracy: 0.9685 - val_loss: 1.4060 - val_accuracy: 0.8972\n",
            "Epoch 2/200\n",
            "62/62 [==============================] - ETA: 0s - loss: 0.0299 - accuracy: 0.9939\n",
            "Epoch 2: val_accuracy improved from 0.89718 to 0.91331, saving model to weights-improvement-02-0.91.hdf5\n",
            "62/62 [==============================] - 6s 96ms/step - loss: 0.0299 - accuracy: 0.9939 - val_loss: 0.8801 - val_accuracy: 0.9133\n",
            "Epoch 3/200\n",
            "62/62 [==============================] - ETA: 0s - loss: 0.0123 - accuracy: 0.9980\n",
            "Epoch 3: val_accuracy improved from 0.91331 to 0.94153, saving model to weights-improvement-03-0.94.hdf5\n",
            "62/62 [==============================] - 6s 96ms/step - loss: 0.0123 - accuracy: 0.9980 - val_loss: 0.4807 - val_accuracy: 0.9415\n",
            "Epoch 4/200\n",
            "62/62 [==============================] - ETA: 0s - loss: 0.0056 - accuracy: 0.9975\n",
            "Epoch 4: val_accuracy improved from 0.94153 to 0.94355, saving model to weights-improvement-04-0.94.hdf5\n",
            "62/62 [==============================] - 6s 96ms/step - loss: 0.0056 - accuracy: 0.9975 - val_loss: 0.4118 - val_accuracy: 0.9435\n",
            "Epoch 5/200\n",
            "62/62 [==============================] - ETA: 0s - loss: 0.0107 - accuracy: 0.9964\n",
            "Epoch 5: val_accuracy improved from 0.94355 to 0.94859, saving model to weights-improvement-05-0.95.hdf5\n",
            "62/62 [==============================] - 6s 97ms/step - loss: 0.0107 - accuracy: 0.9964 - val_loss: 0.3817 - val_accuracy: 0.9486\n",
            "Epoch 6/200\n",
            "62/62 [==============================] - ETA: 0s - loss: 0.0094 - accuracy: 0.9980\n",
            "Epoch 6: val_accuracy improved from 0.94859 to 0.95111, saving model to weights-improvement-06-0.95.hdf5\n",
            "62/62 [==============================] - 6s 99ms/step - loss: 0.0094 - accuracy: 0.9980 - val_loss: 0.3467 - val_accuracy: 0.9511\n",
            "Epoch 7/200\n",
            "61/62 [============================>.] - ETA: 0s - loss: 0.0071 - accuracy: 0.9979\n",
            "Epoch 7: val_accuracy did not improve from 0.95111\n",
            "62/62 [==============================] - 5s 82ms/step - loss: 0.0071 - accuracy: 0.9980 - val_loss: 0.3604 - val_accuracy: 0.9456\n",
            "Epoch 8/200\n",
            "61/62 [============================>.] - ETA: 0s - loss: 0.0022 - accuracy: 0.9990\n",
            "Epoch 8: val_accuracy did not improve from 0.95111\n",
            "62/62 [==============================] - 5s 83ms/step - loss: 0.0022 - accuracy: 0.9990 - val_loss: 0.3685 - val_accuracy: 0.9415\n",
            "Epoch 9/200\n",
            "62/62 [==============================] - ETA: 0s - loss: 0.0152 - accuracy: 0.9964\n",
            "Epoch 9: val_accuracy did not improve from 0.95111\n",
            "62/62 [==============================] - 5s 81ms/step - loss: 0.0152 - accuracy: 0.9964 - val_loss: 0.3809 - val_accuracy: 0.9385\n",
            "Epoch 10/200\n",
            "62/62 [==============================] - ETA: 0s - loss: 0.0132 - accuracy: 0.9975\n",
            "Epoch 10: val_accuracy did not improve from 0.95111\n",
            "62/62 [==============================] - 5s 82ms/step - loss: 0.0132 - accuracy: 0.9975 - val_loss: 0.3728 - val_accuracy: 0.9405\n",
            "Epoch 11/200\n",
            "62/62 [==============================] - ETA: 0s - loss: 0.0061 - accuracy: 0.9980\n",
            "Epoch 11: val_accuracy did not improve from 0.95111\n",
            "62/62 [==============================] - 5s 82ms/step - loss: 0.0061 - accuracy: 0.9980 - val_loss: 0.3927 - val_accuracy: 0.9360\n",
            "Epoch 12/200\n",
            "62/62 [==============================] - ETA: 0s - loss: 0.0015 - accuracy: 0.9995\n",
            "Epoch 12: val_accuracy did not improve from 0.95111\n",
            "62/62 [==============================] - 5s 83ms/step - loss: 0.0015 - accuracy: 0.9995 - val_loss: 0.3979 - val_accuracy: 0.9335\n",
            "Epoch 13/200\n",
            "61/62 [============================>.] - ETA: 0s - loss: 0.0027 - accuracy: 0.9990\n",
            "Epoch 13: val_accuracy did not improve from 0.95111\n",
            "62/62 [==============================] - 5s 82ms/step - loss: 0.0027 - accuracy: 0.9990 - val_loss: 0.3867 - val_accuracy: 0.9365\n",
            "Epoch 13: early stopping\n"
          ]
        },
        {
          "output_type": "execute_result",
          "data": {
            "text/plain": [
              "<keras.callbacks.History at 0x7fb26ed07290>"
            ]
          },
          "metadata": {},
          "execution_count": 58
        }
      ]
    },
    {
      "cell_type": "code",
      "source": [
        "model.evaluate_generator(pred_generator, val_samples=100)"
      ],
      "metadata": {
        "id": "mHjfhuqCOF4l",
        "colab": {
          "base_uri": "https://localhost:8080/",
          "height": 165
        },
        "outputId": "fd663792-6d28-483f-abed-df6c346f58d9"
      },
      "execution_count": null,
      "outputs": [
        {
          "output_type": "error",
          "ename": "TypeError",
          "evalue": "ignored",
          "traceback": [
            "\u001b[0;31m---------------------------------------------------------------------------\u001b[0m",
            "\u001b[0;31mTypeError\u001b[0m                                 Traceback (most recent call last)",
            "\u001b[0;32m<ipython-input-65-484922f8ac9f>\u001b[0m in \u001b[0;36m<module>\u001b[0;34m()\u001b[0m\n\u001b[0;32m----> 1\u001b[0;31m \u001b[0mmodel\u001b[0m\u001b[0;34m.\u001b[0m\u001b[0mevaluate_generator\u001b[0m\u001b[0;34m(\u001b[0m\u001b[0mpred_generator\u001b[0m\u001b[0;34m,\u001b[0m \u001b[0mval_samples\u001b[0m\u001b[0;34m=\u001b[0m\u001b[0;36m100\u001b[0m\u001b[0;34m)\u001b[0m\u001b[0;34m\u001b[0m\u001b[0;34m\u001b[0m\u001b[0m\n\u001b[0m",
            "\u001b[0;31mTypeError\u001b[0m: evaluate_generator() got an unexpected keyword argument 'val_samples'"
          ]
        }
      ]
    },
    {
      "cell_type": "code",
      "source": [
        "mgs,labels=pred_generator.next()\n",
        "array_imgs=np.transpose(np.asarray([img_to_array(img) for img in imgs]),(0,2,1,3))\n",
        "predictions=model.predict(imgs)\n",
        "rounded_pred=np.asarray([round(i) for i in predictions])"
      ],
      "metadata": {
        "id": "BSnfFp9mOF73"
      },
      "execution_count": null,
      "outputs": []
    },
    {
      "cell_type": "code",
      "source": [
        "wrong=[im for im in zip(array_imgs, rounded_pred, labels, predictions) if im[1]!=im[2]]\n",
        "\n",
        "plt.figure(figsize=(12,12))\n",
        "for ind, val in enumerate(wrong[:100]):\n",
        "    plt.subplots_adjust(left=0, right=1, bottom=0, top=1, wspace = 0.2, hspace = 0.2)\n",
        "    plt.subplot(5,5,ind+1)\n",
        "    im=val[0]\n",
        "    plt.axis('off')\n",
        "    plt.text(120, 0, round(val[3], 2), fontsize=11, color='red')\n",
        "    plt.text(0, 0, val[2], fontsize=11, color='blue')\n",
        "    plt.imshow(np.transpose(im,(2,1,0)))"
      ],
      "metadata": {
        "id": "5UynCNIgOF-J"
      },
      "execution_count": null,
      "outputs": []
    },
    {
      "cell_type": "code",
      "source": [
        "right=[im for im in zip(array_imgs, rounded_pred, labels, predictions) if im[1]==im[2]]\n",
        "\n",
        "plt.figure(figsize=(12,12))\n",
        "for ind, val in enumerate(right[:20]):\n",
        "    plt.subplots_adjust(left=0, right=1, bottom=0, top=1, wspace = 0.2, hspace = 0.2)\n",
        "    plt.subplot(5,5,ind+1)\n",
        "    im=val[0]\n",
        "    plt.axis('off')\n",
        "    plt.text(120, 0, round(val[3], 2), fontsize=11, color='red')\n",
        "    plt.text(0, 0, val[2], fontsize=11, color='blue')\n",
        "    plt.imshow(np.transpose(im,(2,1,0)))"
      ],
      "metadata": {
        "id": "qSwOivOXOR30"
      },
      "execution_count": null,
      "outputs": []
    },
    {
      "cell_type": "code",
      "source": [
        ""
      ],
      "metadata": {
        "id": "WcfEhRfoOR6p"
      },
      "execution_count": null,
      "outputs": []
    },
    {
      "cell_type": "code",
      "source": [
        ""
      ],
      "metadata": {
        "id": "8CyvG3cBOR9F"
      },
      "execution_count": null,
      "outputs": []
    },
    {
      "cell_type": "code",
      "source": [
        ""
      ],
      "metadata": {
        "id": "DD2K9UJ2OR_1"
      },
      "execution_count": null,
      "outputs": []
    }
  ]
}