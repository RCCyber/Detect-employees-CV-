{
  "nbformat": 4,
  "nbformat_minor": 0,
  "metadata": {
    "colab": {
      "name": "detect_employees.ipynb",
      "provenance": [],
      "collapsed_sections": [],
      "authorship_tag": "ABX9TyPBjD1qIZissa1heMRxaUeR",
      "include_colab_link": true
    },
    "kernelspec": {
      "name": "python3",
      "display_name": "Python 3"
    },
    "language_info": {
      "name": "python"
    },
    "accelerator": "GPU"
  },
  "cells": [
    {
      "cell_type": "markdown",
      "metadata": {
        "id": "view-in-github",
        "colab_type": "text"
      },
      "source": [
        "<a href=\"https://colab.research.google.com/github/RCCyber/RCCyber/blob/main/detect_employees.ipynb\" target=\"_parent\"><img src=\"https://colab.research.google.com/assets/colab-badge.svg\" alt=\"Open In Colab\"/></a>"
      ]
    },
    {
      "cell_type": "code",
      "execution_count": 29,
      "metadata": {
        "id": "WxeZWVjtXb93"
      },
      "outputs": [],
      "source": [
        "from keras.preprocessing.image import ImageDataGenerator, img_to_array\n",
        "from keras.models import Sequential, Model\n",
        "from keras.applications.inception_v3 import InceptionV3\n",
        "from keras.callbacks import ModelCheckpoint, EarlyStopping\n",
        "from tensorflow.keras.optimizers import SGD\n",
        "from keras.layers import Dense, Activation, Flatten, Dropout\n",
        "\n",
        "from keras import backend as K\n",
        "K.image_dim_ordering='th'\n",
        "\n",
        "import numpy as np\n",
        "import pandas as pd\n",
        "import h5py\n",
        "\n",
        "import matplotlib.pyplot as plt"
      ]
    },
    {
      "cell_type": "code",
      "source": [
        "!cd /content/sample_data/ && unzip data.zip"
      ],
      "metadata": {
        "id": "InPsPWvHF33I"
      },
      "execution_count": null,
      "outputs": []
    },
    {
      "cell_type": "code",
      "source": [
        "inc_model=InceptionV3(include_top=False, \n",
        "                      weights='imagenet', \n",
        "                      input_shape=((116, 116, 3)))"
      ],
      "metadata": {
        "id": "hqubAErMX6Y4",
        "colab": {
          "base_uri": "https://localhost:8080/"
        },
        "outputId": "e66a313a-b87a-4e47-de32-7a07d0bfa937"
      },
      "execution_count": 3,
      "outputs": [
        {
          "output_type": "stream",
          "name": "stdout",
          "text": [
            "Downloading data from https://storage.googleapis.com/tensorflow/keras-applications/inception_v3/inception_v3_weights_tf_dim_ordering_tf_kernels_notop.h5\n",
            "87916544/87910968 [==============================] - 1s 0us/step\n",
            "87924736/87910968 [==============================] - 1s 0us/step\n"
          ]
        }
      ]
    },
    {
      "cell_type": "code",
      "source": [
        "bottleneck_datagen = ImageDataGenerator(rescale=1./255)  #собственно, генератор\n",
        "    \n",
        "train_generator = bottleneck_datagen.flow_from_directory('/content/sample_data/data/train/',\n",
        "                                        target_size=(116, 116),\n",
        "                                        batch_size=32,\n",
        "                                        class_mode=None,\n",
        "                                        shuffle=False)\n",
        "\n",
        "validation_generator = bottleneck_datagen.flow_from_directory('/content/sample_data/data/validation/', \n",
        "                                                              target_size=(116, 116),\n",
        "                                                               batch_size=32,\n",
        "                                                               class_mode=None,\n",
        "                                                               shuffle=False)"
      ],
      "metadata": {
        "colab": {
          "base_uri": "https://localhost:8080/"
        },
        "id": "ECLPig0PX6t_",
        "outputId": "0305a9cd-b922-4dba-c728-8ee5046c9592"
      },
      "execution_count": 4,
      "outputs": [
        {
          "output_type": "stream",
          "name": "stdout",
          "text": [
            "Found 2000 images belonging to 2 classes.\n",
            "Found 2000 images belonging to 2 classes.\n"
          ]
        }
      ]
    },
    {
      "cell_type": "code",
      "source": [
        "bottleneck_features_train = inc_model.predict(train_generator, 2000)\n",
        "np.save(open('bn_features_train.npy', 'wb'), bottleneck_features_train)\n",
        "\n",
        "bottleneck_features_validation = inc_model.predict(validation_generator, 2000)\n",
        "np.save(open('bn_features_validation.npy', 'wb'), bottleneck_features_validation)"
      ],
      "metadata": {
        "id": "WS_-v6IyX62A"
      },
      "execution_count": 5,
      "outputs": []
    },
    {
      "cell_type": "code",
      "source": [
        "train_data = np.load(open('bn_features_train.npy', 'rb'))\n",
        "train_labels = np.array([0] * 1000 + [1] * 1000) \n",
        "\n",
        "validation_data = np.load(open('bn_features_validation.npy', 'rb'))\n",
        "validation_labels = np.array([0] * 1000 + [1] * 1000)"
      ],
      "metadata": {
        "id": "cK9h69B7X67z"
      },
      "execution_count": 6,
      "outputs": []
    },
    {
      "cell_type": "code",
      "source": [
        "fc_model = Sequential()\n",
        "fc_model.add(Flatten(input_shape=train_data.shape[1:]))\n",
        "fc_model.add(Dense(64, activation='relu', name='dense_one'))\n",
        "fc_model.add(Dropout(0.5, name='dropout_one'))\n",
        "fc_model.add(Dense(64, activation='relu', name='dense_two'))\n",
        "fc_model.add(Dropout(0.5, name='dropout_two'))\n",
        "fc_model.add(Dense(1, activation='sigmoid', name='output'))\n",
        "\n",
        "fc_model.compile(optimizer='rmsprop', \n",
        "              loss='binary_crossentropy', \n",
        "              metrics=['accuracy'])"
      ],
      "metadata": {
        "id": "BgCGAA4ZX6-V"
      },
      "execution_count": 7,
      "outputs": []
    },
    {
      "cell_type": "code",
      "source": [
        "#validation_labels = validation_labels.reshape(1, -1)\n",
        "#train_labels = train_labels.reshape(1, -1)\n",
        "print(validation_data.shape)\n",
        "print(validation_labels.shape)\n",
        "print(train_data.shape)\n",
        "print(train_labels.shape)"
      ],
      "metadata": {
        "colab": {
          "base_uri": "https://localhost:8080/"
        },
        "id": "YlXBESYgc81S",
        "outputId": "d694ad37-0e8a-4271-bf8b-a52a636d2181"
      },
      "execution_count": 8,
      "outputs": [
        {
          "output_type": "stream",
          "name": "stdout",
          "text": [
            "(2000, 2, 2, 2048)\n",
            "(2000,)\n",
            "(2000, 2, 2, 2048)\n",
            "(2000,)\n"
          ]
        }
      ]
    },
    {
      "cell_type": "code",
      "source": [
        "callback1 = EarlyStopping(monitor='val_loss', patience=5)\n",
        "callbacks1=[callback1]"
      ],
      "metadata": {
        "id": "2h1KXL7EQ1Gw"
      },
      "execution_count": 9,
      "outputs": []
    },
    {
      "cell_type": "code",
      "source": [
        "fc_model.fit(train_data, train_labels, epochs=50, batch_size=32, validation_data=(validation_data, validation_labels), callbacks=callbacks1)\n",
        "fc_model.save_weights('fc_inception_presence_absence_250.hdf5') # сохраняем веса"
      ],
      "metadata": {
        "id": "iyI0kl9PX7FL",
        "colab": {
          "base_uri": "https://localhost:8080/"
        },
        "outputId": "97321931-a2e0-445a-8951-8ac4bf861d63"
      },
      "execution_count": 10,
      "outputs": [
        {
          "output_type": "stream",
          "name": "stdout",
          "text": [
            "Epoch 1/50\n",
            "63/63 [==============================] - 3s 10ms/step - loss: 0.3503 - accuracy: 0.9145 - val_loss: 0.1302 - val_accuracy: 0.9665\n",
            "Epoch 2/50\n",
            "63/63 [==============================] - 0s 7ms/step - loss: 0.0930 - accuracy: 0.9720 - val_loss: 0.2149 - val_accuracy: 0.9635\n",
            "Epoch 3/50\n",
            "63/63 [==============================] - 0s 6ms/step - loss: 0.0688 - accuracy: 0.9785 - val_loss: 0.1499 - val_accuracy: 0.9745\n",
            "Epoch 4/50\n",
            "63/63 [==============================] - 0s 7ms/step - loss: 0.0401 - accuracy: 0.9860 - val_loss: 0.2639 - val_accuracy: 0.9730\n",
            "Epoch 5/50\n",
            "63/63 [==============================] - 0s 7ms/step - loss: 0.0260 - accuracy: 0.9910 - val_loss: 0.2590 - val_accuracy: 0.9660\n",
            "Epoch 6/50\n",
            "63/63 [==============================] - 1s 9ms/step - loss: 0.0425 - accuracy: 0.9905 - val_loss: 0.5360 - val_accuracy: 0.9355\n"
          ]
        }
      ]
    },
    {
      "cell_type": "code",
      "source": [
        "fc_model.evaluate(validation_data, validation_labels)"
      ],
      "metadata": {
        "colab": {
          "base_uri": "https://localhost:8080/"
        },
        "id": "iHy5i4juVQ_x",
        "outputId": "7c6adf3b-c6a7-4f78-d091-23fd417432e0"
      },
      "execution_count": 11,
      "outputs": [
        {
          "output_type": "stream",
          "name": "stdout",
          "text": [
            "63/63 [==============================] - 0s 4ms/step - loss: 0.5360 - accuracy: 0.9355\n"
          ]
        },
        {
          "output_type": "execute_result",
          "data": {
            "text/plain": [
              "[0.5359904766082764, 0.9355000257492065]"
            ]
          },
          "metadata": {},
          "execution_count": 11
        }
      ]
    },
    {
      "cell_type": "code",
      "source": [
        "weights_filename='fc_inception_presence_absence_250.hdf5'\n",
        "x = Flatten()(inc_model.output)\n",
        "x = Dense(64, activation='relu', name='dense_one')(x)\n",
        "x = Dropout(0.5, name='dropout_one')(x)\n",
        "x = Dense(64, activation='relu', name='dense_two')(x)\n",
        "x = Dropout(0.5, name='dropout_two')(x)\n",
        "top_model=Dense(1, activation='sigmoid', name='output')(x)\n",
        "model = Model(inputs=inc_model.input, outputs=top_model)"
      ],
      "metadata": {
        "id": "VqFDwhcONz7p"
      },
      "execution_count": 12,
      "outputs": []
    },
    {
      "cell_type": "code",
      "source": [
        "weights_filename='fc_inception_presence_absence_250.hdf5'\n",
        "model.load_weights(weights_filename, by_name=True)"
      ],
      "metadata": {
        "id": "jDuUMoAiN0FR"
      },
      "execution_count": 13,
      "outputs": []
    },
    {
      "cell_type": "code",
      "source": [
        "for layer in inc_model.layers[:205]:\n",
        "    layer.trainable = False"
      ],
      "metadata": {
        "id": "fvKoYSlnN0II"
      },
      "execution_count": 14,
      "outputs": []
    },
    {
      "cell_type": "code",
      "source": [
        "model.compile(loss='binary_crossentropy',\n",
        "              optimizer=SGD(learning_rate=1e-4, momentum=0.9),\n",
        "                #optimizer='rmsprop',\n",
        "              metrics=['accuracy'])"
      ],
      "metadata": {
        "id": "yIyuGZG-N0Kv"
      },
      "execution_count": 15,
      "outputs": []
    },
    {
      "cell_type": "code",
      "source": [
        "filepath=\"weights-improvement-{epoch:02d}-{val_accuracy:.2f}.hdf5\"\n",
        "checkpoint = ModelCheckpoint(filepath,  monitor='val_accuracy', verbose=2, save_best_only=True, mode='max')\n",
        "early_stop = EarlyStopping(monitor='val_loss',patience=7, verbose=1, mode='auto')\n",
        "callbacks_list = [checkpoint, early_stop]"
      ],
      "metadata": {
        "id": "rF1ZqdstN0Nc"
      },
      "execution_count": 16,
      "outputs": []
    },
    {
      "cell_type": "code",
      "source": [
        "train_datagen = ImageDataGenerator(\n",
        "        rescale=1./255)#,\n",
        "        #shear_range=0.2,\n",
        "        #zoom_range=0.2,\n",
        "        #horizontal_flip=True)\n",
        "\n",
        "test_datagen = ImageDataGenerator(rescale=1./255)\n",
        "\n",
        "train_generator = train_datagen.flow_from_directory(\n",
        "        '/content/sample_data/data/train/',\n",
        "        target_size=(116, 116),\n",
        "        batch_size=32,\n",
        "        class_mode='binary')\n",
        "\n",
        "validation_generator = test_datagen.flow_from_directory(\n",
        "        '/content/sample_data/data/validation/',\n",
        "        target_size=(116, 116),\n",
        "        batch_size=32,\n",
        "        class_mode='binary')\n",
        "\n",
        "\n",
        "pred_generator=test_datagen.flow_from_directory('/content/sample_data/data/validation/',\n",
        "                                                     target_size=(116,116),\n",
        "                                                     batch_size=100,\n",
        "                                                     class_mode='binary')"
      ],
      "metadata": {
        "id": "SJ_CD3SoN0Py",
        "colab": {
          "base_uri": "https://localhost:8080/"
        },
        "outputId": "be7cd883-85c1-414f-b527-f8bee553ffe0"
      },
      "execution_count": 17,
      "outputs": [
        {
          "output_type": "stream",
          "name": "stdout",
          "text": [
            "Found 2000 images belonging to 2 classes.\n",
            "Found 2000 images belonging to 2 classes.\n",
            "Found 2000 images belonging to 2 classes.\n"
          ]
        }
      ]
    },
    {
      "cell_type": "code",
      "source": [
        "steps_per_epoch = 2000 // 32\n",
        "\n",
        "validation_steps = 2000 // 32"
      ],
      "metadata": {
        "id": "RZWzcp3jzKAk"
      },
      "execution_count": 18,
      "outputs": []
    },
    {
      "cell_type": "code",
      "source": [
        "model.fit(\n",
        "        train_generator,\n",
        "        steps_per_epoch=steps_per_epoch,\n",
        "        epochs=200,\n",
        "        validation_data=validation_generator,\n",
        "        validation_steps=validation_steps,\n",
        "        #nb_val_samples=2000,\n",
        "        callbacks=callbacks_list)"
      ],
      "metadata": {
        "id": "syPe5-ulN0Sf",
        "colab": {
          "base_uri": "https://localhost:8080/"
        },
        "outputId": "5515905e-a62a-4161-c827-f7e67b6ff9a1"
      },
      "execution_count": 19,
      "outputs": [
        {
          "output_type": "stream",
          "name": "stdout",
          "text": [
            "Epoch 1/200\n",
            "62/62 [==============================] - ETA: 0s - loss: 0.1903 - accuracy: 0.9502\n",
            "Epoch 1: val_accuracy improved from -inf to 0.90524, saving model to weights-improvement-01-0.91.hdf5\n",
            "62/62 [==============================] - 13s 116ms/step - loss: 0.1903 - accuracy: 0.9502 - val_loss: 0.4972 - val_accuracy: 0.9052\n",
            "Epoch 2/200\n",
            "61/62 [============================>.] - ETA: 0s - loss: 0.0706 - accuracy: 0.9799\n",
            "Epoch 2: val_accuracy improved from 0.90524 to 0.93952, saving model to weights-improvement-02-0.94.hdf5\n",
            "62/62 [==============================] - 5s 88ms/step - loss: 0.0701 - accuracy: 0.9802 - val_loss: 0.2282 - val_accuracy: 0.9395\n",
            "Epoch 3/200\n",
            "62/62 [==============================] - ETA: 0s - loss: 0.0314 - accuracy: 0.9929\n",
            "Epoch 3: val_accuracy improved from 0.93952 to 0.95766, saving model to weights-improvement-03-0.96.hdf5\n",
            "62/62 [==============================] - 6s 91ms/step - loss: 0.0314 - accuracy: 0.9929 - val_loss: 0.1529 - val_accuracy: 0.9577\n",
            "Epoch 4/200\n",
            "62/62 [==============================] - ETA: 0s - loss: 0.0283 - accuracy: 0.9909\n",
            "Epoch 4: val_accuracy did not improve from 0.95766\n",
            "62/62 [==============================] - 5s 78ms/step - loss: 0.0283 - accuracy: 0.9909 - val_loss: 0.1468 - val_accuracy: 0.9556\n",
            "Epoch 5/200\n",
            "61/62 [============================>.] - ETA: 0s - loss: 0.0281 - accuracy: 0.9923\n",
            "Epoch 5: val_accuracy did not improve from 0.95766\n",
            "62/62 [==============================] - 5s 75ms/step - loss: 0.0278 - accuracy: 0.9924 - val_loss: 0.1395 - val_accuracy: 0.9531\n",
            "Epoch 6/200\n",
            "62/62 [==============================] - ETA: 0s - loss: 0.0185 - accuracy: 0.9959\n",
            "Epoch 6: val_accuracy did not improve from 0.95766\n",
            "62/62 [==============================] - 5s 75ms/step - loss: 0.0185 - accuracy: 0.9959 - val_loss: 0.1433 - val_accuracy: 0.9516\n",
            "Epoch 7/200\n",
            "62/62 [==============================] - ETA: 0s - loss: 0.0230 - accuracy: 0.9924\n",
            "Epoch 7: val_accuracy did not improve from 0.95766\n",
            "62/62 [==============================] - 5s 77ms/step - loss: 0.0230 - accuracy: 0.9924 - val_loss: 0.1493 - val_accuracy: 0.9521\n",
            "Epoch 8/200\n",
            "61/62 [============================>.] - ETA: 0s - loss: 0.0164 - accuracy: 0.9969\n",
            "Epoch 8: val_accuracy did not improve from 0.95766\n",
            "62/62 [==============================] - 5s 77ms/step - loss: 0.0163 - accuracy: 0.9970 - val_loss: 0.1455 - val_accuracy: 0.9516\n",
            "Epoch 9/200\n",
            "61/62 [============================>.] - ETA: 0s - loss: 0.0202 - accuracy: 0.9964\n",
            "Epoch 9: val_accuracy did not improve from 0.95766\n",
            "62/62 [==============================] - 5s 76ms/step - loss: 0.0199 - accuracy: 0.9964 - val_loss: 0.1390 - val_accuracy: 0.9541\n",
            "Epoch 10/200\n",
            "62/62 [==============================] - ETA: 0s - loss: 0.0125 - accuracy: 0.9964\n",
            "Epoch 10: val_accuracy improved from 0.95766 to 0.95867, saving model to weights-improvement-10-0.96.hdf5\n",
            "62/62 [==============================] - 6s 94ms/step - loss: 0.0125 - accuracy: 0.9964 - val_loss: 0.1352 - val_accuracy: 0.9587\n",
            "Epoch 11/200\n",
            "62/62 [==============================] - ETA: 0s - loss: 0.0259 - accuracy: 0.9939\n",
            "Epoch 11: val_accuracy did not improve from 0.95867\n",
            "62/62 [==============================] - 5s 87ms/step - loss: 0.0259 - accuracy: 0.9939 - val_loss: 0.1469 - val_accuracy: 0.9546\n",
            "Epoch 12/200\n",
            "61/62 [============================>.] - ETA: 0s - loss: 0.0190 - accuracy: 0.9917\n",
            "Epoch 12: val_accuracy did not improve from 0.95867\n",
            "62/62 [==============================] - 5s 78ms/step - loss: 0.0188 - accuracy: 0.9919 - val_loss: 0.1475 - val_accuracy: 0.9551\n",
            "Epoch 13/200\n",
            "61/62 [============================>.] - ETA: 0s - loss: 0.0147 - accuracy: 0.9954\n",
            "Epoch 13: val_accuracy did not improve from 0.95867\n",
            "62/62 [==============================] - 5s 78ms/step - loss: 0.0147 - accuracy: 0.9954 - val_loss: 0.1498 - val_accuracy: 0.9561\n",
            "Epoch 14/200\n",
            "62/62 [==============================] - ETA: 0s - loss: 0.0174 - accuracy: 0.9959\n",
            "Epoch 14: val_accuracy did not improve from 0.95867\n",
            "62/62 [==============================] - 5s 77ms/step - loss: 0.0174 - accuracy: 0.9959 - val_loss: 0.1395 - val_accuracy: 0.9572\n",
            "Epoch 15/200\n",
            "61/62 [============================>.] - ETA: 0s - loss: 0.0143 - accuracy: 0.9948\n",
            "Epoch 15: val_accuracy improved from 0.95867 to 0.95917, saving model to weights-improvement-15-0.96.hdf5\n",
            "62/62 [==============================] - 5s 89ms/step - loss: 0.0142 - accuracy: 0.9949 - val_loss: 0.1355 - val_accuracy: 0.9592\n",
            "Epoch 16/200\n",
            "62/62 [==============================] - ETA: 0s - loss: 0.0134 - accuracy: 0.9959\n",
            "Epoch 16: val_accuracy improved from 0.95917 to 0.96018, saving model to weights-improvement-16-0.96.hdf5\n",
            "62/62 [==============================] - 5s 88ms/step - loss: 0.0134 - accuracy: 0.9959 - val_loss: 0.1297 - val_accuracy: 0.9602\n",
            "Epoch 17/200\n",
            "62/62 [==============================] - ETA: 0s - loss: 0.0116 - accuracy: 0.9970\n",
            "Epoch 17: val_accuracy improved from 0.96018 to 0.96321, saving model to weights-improvement-17-0.96.hdf5\n",
            "62/62 [==============================] - 6s 91ms/step - loss: 0.0116 - accuracy: 0.9970 - val_loss: 0.1258 - val_accuracy: 0.9632\n",
            "Epoch 18/200\n",
            "62/62 [==============================] - ETA: 0s - loss: 0.0151 - accuracy: 0.9939\n",
            "Epoch 18: val_accuracy improved from 0.96321 to 0.96421, saving model to weights-improvement-18-0.96.hdf5\n",
            "62/62 [==============================] - 6s 89ms/step - loss: 0.0151 - accuracy: 0.9939 - val_loss: 0.1234 - val_accuracy: 0.9642\n",
            "Epoch 19/200\n",
            "62/62 [==============================] - ETA: 0s - loss: 0.0126 - accuracy: 0.9959\n",
            "Epoch 19: val_accuracy did not improve from 0.96421\n",
            "62/62 [==============================] - 5s 78ms/step - loss: 0.0126 - accuracy: 0.9959 - val_loss: 0.1218 - val_accuracy: 0.9642\n",
            "Epoch 20/200\n",
            "62/62 [==============================] - ETA: 0s - loss: 0.0130 - accuracy: 0.9970\n",
            "Epoch 20: val_accuracy did not improve from 0.96421\n",
            "62/62 [==============================] - 5s 77ms/step - loss: 0.0130 - accuracy: 0.9970 - val_loss: 0.1253 - val_accuracy: 0.9642\n",
            "Epoch 21/200\n",
            "62/62 [==============================] - ETA: 0s - loss: 0.0147 - accuracy: 0.9944\n",
            "Epoch 21: val_accuracy did not improve from 0.96421\n",
            "62/62 [==============================] - 5s 77ms/step - loss: 0.0147 - accuracy: 0.9944 - val_loss: 0.1302 - val_accuracy: 0.9637\n",
            "Epoch 22/200\n",
            "61/62 [============================>.] - ETA: 0s - loss: 0.0098 - accuracy: 0.9985\n",
            "Epoch 22: val_accuracy improved from 0.96421 to 0.96472, saving model to weights-improvement-22-0.96.hdf5\n",
            "62/62 [==============================] - 5s 89ms/step - loss: 0.0097 - accuracy: 0.9985 - val_loss: 0.1265 - val_accuracy: 0.9647\n",
            "Epoch 23/200\n",
            "62/62 [==============================] - ETA: 0s - loss: 0.0146 - accuracy: 0.9949\n",
            "Epoch 23: val_accuracy did not improve from 0.96472\n",
            "62/62 [==============================] - 5s 78ms/step - loss: 0.0146 - accuracy: 0.9949 - val_loss: 0.1346 - val_accuracy: 0.9632\n",
            "Epoch 24/200\n",
            "62/62 [==============================] - ETA: 0s - loss: 0.0114 - accuracy: 0.9970\n",
            "Epoch 24: val_accuracy did not improve from 0.96472\n",
            "62/62 [==============================] - 5s 77ms/step - loss: 0.0114 - accuracy: 0.9970 - val_loss: 0.1357 - val_accuracy: 0.9632\n",
            "Epoch 25/200\n",
            "61/62 [============================>.] - ETA: 0s - loss: 0.0115 - accuracy: 0.9974\n",
            "Epoch 25: val_accuracy did not improve from 0.96472\n",
            "62/62 [==============================] - 5s 77ms/step - loss: 0.0120 - accuracy: 0.9975 - val_loss: 0.1300 - val_accuracy: 0.9647\n",
            "Epoch 26/200\n",
            "62/62 [==============================] - ETA: 0s - loss: 0.0119 - accuracy: 0.9959\n",
            "Epoch 26: val_accuracy improved from 0.96472 to 0.96522, saving model to weights-improvement-26-0.97.hdf5\n",
            "62/62 [==============================] - 5s 88ms/step - loss: 0.0119 - accuracy: 0.9959 - val_loss: 0.1294 - val_accuracy: 0.9652\n",
            "Epoch 26: early stopping\n"
          ]
        },
        {
          "output_type": "execute_result",
          "data": {
            "text/plain": [
              "<keras.callbacks.History at 0x7f41e01b9110>"
            ]
          },
          "metadata": {},
          "execution_count": 19
        }
      ]
    },
    {
      "cell_type": "code",
      "source": [
        "model.evaluate(pred_generator, batch_size=100)"
      ],
      "metadata": {
        "id": "mHjfhuqCOF4l",
        "colab": {
          "base_uri": "https://localhost:8080/"
        },
        "outputId": "20888f51-204c-4ff4-e550-94ca18ec51c4"
      },
      "execution_count": 24,
      "outputs": [
        {
          "output_type": "stream",
          "name": "stdout",
          "text": [
            "20/20 [==============================] - 2s 89ms/step - loss: 0.1290 - accuracy: 0.9650\n"
          ]
        },
        {
          "output_type": "execute_result",
          "data": {
            "text/plain": [
              "[0.12897147238254547, 0.9649999737739563]"
            ]
          },
          "metadata": {},
          "execution_count": 24
        }
      ]
    },
    {
      "cell_type": "code",
      "source": [
        "imgs,labels=pred_generator.next()\n",
        "array_imgs=np.transpose(np.asarray([img_to_array(img) for img in imgs]),(0,2,1,3))\n",
        "predictions=model.predict(imgs)\n",
        "rounded_pred=np.asarray([i for i in predictions])"
      ],
      "metadata": {
        "id": "BSnfFp9mOF73"
      },
      "execution_count": 31,
      "outputs": []
    },
    {
      "cell_type": "code",
      "source": [
        "wrong=[im for im in zip(array_imgs, rounded_pred, labels, predictions) if im[1]!=im[2]]\n",
        "\n",
        "plt.figure(figsize=(12,12))\n",
        "for ind, val in enumerate(wrong[:100]):\n",
        "    plt.subplots_adjust(left=0, right=1, bottom=0, top=1, wspace = 0.2, hspace = 0.2)\n",
        "    plt.subplot(5,5,ind+1)\n",
        "    im=val[0]\n",
        "    plt.axis('off')\n",
        "    plt.text(120, 0, val[3], fontsize=11, color='red')\n",
        "    plt.text(0, 0, val[2], fontsize=11, color='blue')\n",
        "    plt.imshow(np.transpose(im,(2,1,0)))"
      ],
      "metadata": {
        "id": "5UynCNIgOF-J",
        "colab": {
          "base_uri": "https://localhost:8080/",
          "height": 397
        },
        "outputId": "f13d6469-c71f-4592-fcea-fbb21ac29a1e"
      },
      "execution_count": 33,
      "outputs": [
        {
          "output_type": "stream",
          "name": "stderr",
          "text": [
            "/usr/local/lib/python3.7/dist-packages/matplotlib/text.py:1165: FutureWarning: elementwise comparison failed; returning scalar instead, but in the future will perform elementwise comparison\n",
            "  if s != self._text:\n"
          ]
        },
        {
          "output_type": "error",
          "ename": "TypeError",
          "evalue": "ignored",
          "traceback": [
            "\u001b[0;31m---------------------------------------------------------------------------\u001b[0m",
            "\u001b[0;31mTypeError\u001b[0m                                 Traceback (most recent call last)",
            "\u001b[0;32m<ipython-input-33-a3b8569ec53c>\u001b[0m in \u001b[0;36m<module>\u001b[0;34m()\u001b[0m\n\u001b[1;32m      9\u001b[0m     \u001b[0mplt\u001b[0m\u001b[0;34m.\u001b[0m\u001b[0mtext\u001b[0m\u001b[0;34m(\u001b[0m\u001b[0;36m120\u001b[0m\u001b[0;34m,\u001b[0m \u001b[0;36m0\u001b[0m\u001b[0;34m,\u001b[0m \u001b[0mval\u001b[0m\u001b[0;34m[\u001b[0m\u001b[0;36m3\u001b[0m\u001b[0;34m]\u001b[0m\u001b[0;34m,\u001b[0m \u001b[0mfontsize\u001b[0m\u001b[0;34m=\u001b[0m\u001b[0;36m11\u001b[0m\u001b[0;34m,\u001b[0m \u001b[0mcolor\u001b[0m\u001b[0;34m=\u001b[0m\u001b[0;34m'red'\u001b[0m\u001b[0;34m)\u001b[0m\u001b[0;34m\u001b[0m\u001b[0;34m\u001b[0m\u001b[0m\n\u001b[1;32m     10\u001b[0m     \u001b[0mplt\u001b[0m\u001b[0;34m.\u001b[0m\u001b[0mtext\u001b[0m\u001b[0;34m(\u001b[0m\u001b[0;36m0\u001b[0m\u001b[0;34m,\u001b[0m \u001b[0;36m0\u001b[0m\u001b[0;34m,\u001b[0m \u001b[0mval\u001b[0m\u001b[0;34m[\u001b[0m\u001b[0;36m2\u001b[0m\u001b[0;34m]\u001b[0m\u001b[0;34m,\u001b[0m \u001b[0mfontsize\u001b[0m\u001b[0;34m=\u001b[0m\u001b[0;36m11\u001b[0m\u001b[0;34m,\u001b[0m \u001b[0mcolor\u001b[0m\u001b[0;34m=\u001b[0m\u001b[0;34m'blue'\u001b[0m\u001b[0;34m)\u001b[0m\u001b[0;34m\u001b[0m\u001b[0;34m\u001b[0m\u001b[0m\n\u001b[0;32m---> 11\u001b[0;31m     \u001b[0mplt\u001b[0m\u001b[0;34m.\u001b[0m\u001b[0mimshow\u001b[0m\u001b[0;34m(\u001b[0m\u001b[0mnp\u001b[0m\u001b[0;34m.\u001b[0m\u001b[0mtranspose\u001b[0m\u001b[0;34m(\u001b[0m\u001b[0mim\u001b[0m\u001b[0;34m,\u001b[0m\u001b[0;34m(\u001b[0m\u001b[0;36m2\u001b[0m\u001b[0;34m,\u001b[0m\u001b[0;36m1\u001b[0m\u001b[0;34m,\u001b[0m\u001b[0;36m0\u001b[0m\u001b[0;34m)\u001b[0m\u001b[0;34m)\u001b[0m\u001b[0;34m)\u001b[0m\u001b[0;34m\u001b[0m\u001b[0;34m\u001b[0m\u001b[0m\n\u001b[0m",
            "\u001b[0;32m/usr/local/lib/python3.7/dist-packages/matplotlib/pyplot.py\u001b[0m in \u001b[0;36mimshow\u001b[0;34m(X, cmap, norm, aspect, interpolation, alpha, vmin, vmax, origin, extent, shape, filternorm, filterrad, imlim, resample, url, data, **kwargs)\u001b[0m\n\u001b[1;32m   2649\u001b[0m         \u001b[0mfilternorm\u001b[0m\u001b[0;34m=\u001b[0m\u001b[0mfilternorm\u001b[0m\u001b[0;34m,\u001b[0m \u001b[0mfilterrad\u001b[0m\u001b[0;34m=\u001b[0m\u001b[0mfilterrad\u001b[0m\u001b[0;34m,\u001b[0m \u001b[0mimlim\u001b[0m\u001b[0;34m=\u001b[0m\u001b[0mimlim\u001b[0m\u001b[0;34m,\u001b[0m\u001b[0;34m\u001b[0m\u001b[0;34m\u001b[0m\u001b[0m\n\u001b[1;32m   2650\u001b[0m         resample=resample, url=url, **({\"data\": data} if data is not\n\u001b[0;32m-> 2651\u001b[0;31m         None else {}), **kwargs)\n\u001b[0m\u001b[1;32m   2652\u001b[0m     \u001b[0msci\u001b[0m\u001b[0;34m(\u001b[0m\u001b[0m__ret\u001b[0m\u001b[0;34m)\u001b[0m\u001b[0;34m\u001b[0m\u001b[0;34m\u001b[0m\u001b[0m\n\u001b[1;32m   2653\u001b[0m     \u001b[0;32mreturn\u001b[0m \u001b[0m__ret\u001b[0m\u001b[0;34m\u001b[0m\u001b[0;34m\u001b[0m\u001b[0m\n",
            "\u001b[0;32m/usr/local/lib/python3.7/dist-packages/matplotlib/__init__.py\u001b[0m in \u001b[0;36minner\u001b[0;34m(ax, data, *args, **kwargs)\u001b[0m\n\u001b[1;32m   1563\u001b[0m     \u001b[0;32mdef\u001b[0m \u001b[0minner\u001b[0m\u001b[0;34m(\u001b[0m\u001b[0max\u001b[0m\u001b[0;34m,\u001b[0m \u001b[0;34m*\u001b[0m\u001b[0margs\u001b[0m\u001b[0;34m,\u001b[0m \u001b[0mdata\u001b[0m\u001b[0;34m=\u001b[0m\u001b[0;32mNone\u001b[0m\u001b[0;34m,\u001b[0m \u001b[0;34m**\u001b[0m\u001b[0mkwargs\u001b[0m\u001b[0;34m)\u001b[0m\u001b[0;34m:\u001b[0m\u001b[0;34m\u001b[0m\u001b[0;34m\u001b[0m\u001b[0m\n\u001b[1;32m   1564\u001b[0m         \u001b[0;32mif\u001b[0m \u001b[0mdata\u001b[0m \u001b[0;32mis\u001b[0m \u001b[0;32mNone\u001b[0m\u001b[0;34m:\u001b[0m\u001b[0;34m\u001b[0m\u001b[0;34m\u001b[0m\u001b[0m\n\u001b[0;32m-> 1565\u001b[0;31m             \u001b[0;32mreturn\u001b[0m \u001b[0mfunc\u001b[0m\u001b[0;34m(\u001b[0m\u001b[0max\u001b[0m\u001b[0;34m,\u001b[0m \u001b[0;34m*\u001b[0m\u001b[0mmap\u001b[0m\u001b[0;34m(\u001b[0m\u001b[0msanitize_sequence\u001b[0m\u001b[0;34m,\u001b[0m \u001b[0margs\u001b[0m\u001b[0;34m)\u001b[0m\u001b[0;34m,\u001b[0m \u001b[0;34m**\u001b[0m\u001b[0mkwargs\u001b[0m\u001b[0;34m)\u001b[0m\u001b[0;34m\u001b[0m\u001b[0;34m\u001b[0m\u001b[0m\n\u001b[0m\u001b[1;32m   1566\u001b[0m \u001b[0;34m\u001b[0m\u001b[0m\n\u001b[1;32m   1567\u001b[0m         \u001b[0mbound\u001b[0m \u001b[0;34m=\u001b[0m \u001b[0mnew_sig\u001b[0m\u001b[0;34m.\u001b[0m\u001b[0mbind\u001b[0m\u001b[0;34m(\u001b[0m\u001b[0max\u001b[0m\u001b[0;34m,\u001b[0m \u001b[0;34m*\u001b[0m\u001b[0margs\u001b[0m\u001b[0;34m,\u001b[0m \u001b[0;34m**\u001b[0m\u001b[0mkwargs\u001b[0m\u001b[0;34m)\u001b[0m\u001b[0;34m\u001b[0m\u001b[0;34m\u001b[0m\u001b[0m\n",
            "\u001b[0;32m/usr/local/lib/python3.7/dist-packages/matplotlib/cbook/deprecation.py\u001b[0m in \u001b[0;36mwrapper\u001b[0;34m(*args, **kwargs)\u001b[0m\n\u001b[1;32m    356\u001b[0m                 \u001b[0;34mf\"%(removal)s.  If any parameter follows {name!r}, they \"\u001b[0m\u001b[0;34m\u001b[0m\u001b[0;34m\u001b[0m\u001b[0m\n\u001b[1;32m    357\u001b[0m                 f\"should be pass as keyword, not positionally.\")\n\u001b[0;32m--> 358\u001b[0;31m         \u001b[0;32mreturn\u001b[0m \u001b[0mfunc\u001b[0m\u001b[0;34m(\u001b[0m\u001b[0;34m*\u001b[0m\u001b[0margs\u001b[0m\u001b[0;34m,\u001b[0m \u001b[0;34m**\u001b[0m\u001b[0mkwargs\u001b[0m\u001b[0;34m)\u001b[0m\u001b[0;34m\u001b[0m\u001b[0;34m\u001b[0m\u001b[0m\n\u001b[0m\u001b[1;32m    359\u001b[0m \u001b[0;34m\u001b[0m\u001b[0m\n\u001b[1;32m    360\u001b[0m     \u001b[0;32mreturn\u001b[0m \u001b[0mwrapper\u001b[0m\u001b[0;34m\u001b[0m\u001b[0;34m\u001b[0m\u001b[0m\n",
            "\u001b[0;32m/usr/local/lib/python3.7/dist-packages/matplotlib/cbook/deprecation.py\u001b[0m in \u001b[0;36mwrapper\u001b[0;34m(*args, **kwargs)\u001b[0m\n\u001b[1;32m    356\u001b[0m                 \u001b[0;34mf\"%(removal)s.  If any parameter follows {name!r}, they \"\u001b[0m\u001b[0;34m\u001b[0m\u001b[0;34m\u001b[0m\u001b[0m\n\u001b[1;32m    357\u001b[0m                 f\"should be pass as keyword, not positionally.\")\n\u001b[0;32m--> 358\u001b[0;31m         \u001b[0;32mreturn\u001b[0m \u001b[0mfunc\u001b[0m\u001b[0;34m(\u001b[0m\u001b[0;34m*\u001b[0m\u001b[0margs\u001b[0m\u001b[0;34m,\u001b[0m \u001b[0;34m**\u001b[0m\u001b[0mkwargs\u001b[0m\u001b[0;34m)\u001b[0m\u001b[0;34m\u001b[0m\u001b[0;34m\u001b[0m\u001b[0m\n\u001b[0m\u001b[1;32m    359\u001b[0m \u001b[0;34m\u001b[0m\u001b[0m\n\u001b[1;32m    360\u001b[0m     \u001b[0;32mreturn\u001b[0m \u001b[0mwrapper\u001b[0m\u001b[0;34m\u001b[0m\u001b[0;34m\u001b[0m\u001b[0m\n",
            "\u001b[0;32m/usr/local/lib/python3.7/dist-packages/matplotlib/axes/_axes.py\u001b[0m in \u001b[0;36mimshow\u001b[0;34m(self, X, cmap, norm, aspect, interpolation, alpha, vmin, vmax, origin, extent, shape, filternorm, filterrad, imlim, resample, url, **kwargs)\u001b[0m\n\u001b[1;32m   5624\u001b[0m                               resample=resample, **kwargs)\n\u001b[1;32m   5625\u001b[0m \u001b[0;34m\u001b[0m\u001b[0m\n\u001b[0;32m-> 5626\u001b[0;31m         \u001b[0mim\u001b[0m\u001b[0;34m.\u001b[0m\u001b[0mset_data\u001b[0m\u001b[0;34m(\u001b[0m\u001b[0mX\u001b[0m\u001b[0;34m)\u001b[0m\u001b[0;34m\u001b[0m\u001b[0;34m\u001b[0m\u001b[0m\n\u001b[0m\u001b[1;32m   5627\u001b[0m         \u001b[0mim\u001b[0m\u001b[0;34m.\u001b[0m\u001b[0mset_alpha\u001b[0m\u001b[0;34m(\u001b[0m\u001b[0malpha\u001b[0m\u001b[0;34m)\u001b[0m\u001b[0;34m\u001b[0m\u001b[0;34m\u001b[0m\u001b[0m\n\u001b[1;32m   5628\u001b[0m         \u001b[0;32mif\u001b[0m \u001b[0mim\u001b[0m\u001b[0;34m.\u001b[0m\u001b[0mget_clip_path\u001b[0m\u001b[0;34m(\u001b[0m\u001b[0;34m)\u001b[0m \u001b[0;32mis\u001b[0m \u001b[0;32mNone\u001b[0m\u001b[0;34m:\u001b[0m\u001b[0;34m\u001b[0m\u001b[0;34m\u001b[0m\u001b[0m\n",
            "\u001b[0;32m/usr/local/lib/python3.7/dist-packages/matplotlib/image.py\u001b[0m in \u001b[0;36mset_data\u001b[0;34m(self, A)\u001b[0m\n\u001b[1;32m    697\u001b[0m                 or self._A.ndim == 3 and self._A.shape[-1] in [3, 4]):\n\u001b[1;32m    698\u001b[0m             raise TypeError(\"Invalid shape {} for image data\"\n\u001b[0;32m--> 699\u001b[0;31m                             .format(self._A.shape))\n\u001b[0m\u001b[1;32m    700\u001b[0m \u001b[0;34m\u001b[0m\u001b[0m\n\u001b[1;32m    701\u001b[0m         \u001b[0;32mif\u001b[0m \u001b[0mself\u001b[0m\u001b[0;34m.\u001b[0m\u001b[0m_A\u001b[0m\u001b[0;34m.\u001b[0m\u001b[0mndim\u001b[0m \u001b[0;34m==\u001b[0m \u001b[0;36m3\u001b[0m\u001b[0;34m:\u001b[0m\u001b[0;34m\u001b[0m\u001b[0;34m\u001b[0m\u001b[0m\n",
            "\u001b[0;31mTypeError\u001b[0m: Invalid shape (3, 116, 116) for image data"
          ]
        },
        {
          "output_type": "display_data",
          "data": {
            "text/plain": [
              "<Figure size 864x864 with 1 Axes>"
            ],
            "image/png": "[encoded data removed]"
          },
          "metadata": {
            "needs_background": "light"
          }
        }
      ]
    },
    {
      "cell_type": "code",
      "source": [
        "right=[im for im in zip(array_imgs, rounded_pred, labels, predictions) if im[1]==im[2]]\n",
        "\n",
        "plt.figure(figsize=(12,12))\n",
        "for ind, val in enumerate(right[:20]):\n",
        "    plt.subplots_adjust(left=0, right=1, bottom=0, top=1, wspace = 0.2, hspace = 0.2)\n",
        "    plt.subplot(5,5,ind+1)\n",
        "    im=val[0]\n",
        "    plt.axis('off')\n",
        "    plt.text(120, 0, round(val[3], 2), fontsize=11, color='red')\n",
        "    plt.text(0, 0, val[2], fontsize=11, color='blue')\n",
        "    plt.imshow(np.transpose(im,(2,1,0)))"
      ],
      "metadata": {
        "id": "qSwOivOXOR30",
        "colab": {
          "base_uri": "https://localhost:8080/",
          "height": 34
        },
        "outputId": "a97cd96b-7e44-4957-c5d7-778061614f0c"
      },
      "execution_count": 34,
      "outputs": [
        {
          "output_type": "display_data",
          "data": {
            "text/plain": [
              "<Figure size 864x864 with 0 Axes>"
            ]
          },
          "metadata": {}
        }
      ]
    },
    {
      "cell_type": "code",
      "source": [
        ""
      ],
      "metadata": {
        "id": "WcfEhRfoOR6p"
      },
      "execution_count": null,
      "outputs": []
    },
    {
      "cell_type": "code",
      "source": [
        ""
      ],
      "metadata": {
        "id": "8CyvG3cBOR9F"
      },
      "execution_count": null,
      "outputs": []
    },
    {
      "cell_type": "code",
      "source": [
        ""
      ],
      "metadata": {
        "id": "DD2K9UJ2OR_1"
      },
      "execution_count": null,
      "outputs": []
    }
  ]
}