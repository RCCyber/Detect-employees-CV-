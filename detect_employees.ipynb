{
  "nbformat": 4,
  "nbformat_minor": 0,
  "metadata": {
    "colab": {
      "name": "detect_employees.ipynb",
      "provenance": [],
      "collapsed_sections": [],
      "authorship_tag": "ABX9TyOwGAEqBnUPnWY/2fOFuILJ",
      "include_colab_link": true
    },
    "kernelspec": {
      "name": "python3",
      "display_name": "Python 3"
    },
    "language_info": {
      "name": "python"
    }
  },
  "cells": [
    {
      "cell_type": "markdown",
      "metadata": {
        "id": "view-in-github",
        "colab_type": "text"
      },
      "source": [
        "<a href=\"https://colab.research.google.com/github/RCCyber/RCCyber/blob/main/detect_employees.ipynb\" target=\"_parent\"><img src=\"https://colab.research.google.com/assets/colab-badge.svg\" alt=\"Open In Colab\"/></a>"
      ]
    },
    {
      "cell_type": "code",
      "execution_count": 3,
      "metadata": {
        "id": "WxeZWVjtXb93"
      },
      "outputs": [],
      "source": [
        "from keras.preprocessing.image import ImageDataGenerator\n",
        "from keras.models import Sequential, Model\n",
        "from keras.applications.inception_v3 import InceptionV3\n",
        "from keras.callbacks import ModelCheckpoint\n",
        "from tensorflow.keras.optimizers import SGD\n",
        "\n",
        "from keras import backend as K\n",
        "K.image_dim_ordering='th'\n",
        "\n",
        "import numpy as np\n",
        "import pandas as pd\n",
        "import h5py\n",
        "\n",
        "import matplotlib.pyplot as plt"
      ]
    },
    {
      "cell_type": "code",
      "source": [
        "#cd /content/sample_data/ && unzip data.zip"
      ],
      "metadata": {
        "id": "InPsPWvHF33I"
      },
      "execution_count": 29,
      "outputs": []
    },
    {
      "cell_type": "code",
      "source": [
        "inc_model=InceptionV3(include_top=False, \n",
        "                      weights='imagenet', \n",
        "                      input_shape=((116, 116, 3)))"
      ],
      "metadata": {
        "colab": {
          "base_uri": "https://localhost:8080/"
        },
        "id": "hqubAErMX6Y4",
        "outputId": "5f35c207-6e69-43d1-dd5b-3a4b4f095c63"
      },
      "execution_count": 4,
      "outputs": [
        {
          "output_type": "stream",
          "name": "stdout",
          "text": [
            "Downloading data from https://storage.googleapis.com/tensorflow/keras-applications/inception_v3/inception_v3_weights_tf_dim_ordering_tf_kernels_notop.h5\n",
            "87916544/87910968 [==============================] - 0s 0us/step\n",
            "87924736/87910968 [==============================] - 0s 0us/step\n"
          ]
        }
      ]
    },
    {
      "cell_type": "code",
      "source": [
        "bottleneck_datagen = ImageDataGenerator(rescale=1./255)  #собственно, генератор\n",
        "    \n",
        "train_generator = bottleneck_datagen.flow_from_directory('/content/sample_data/data/train/',\n",
        "                                        target_size=(116, 116),\n",
        "                                        batch_size=32,\n",
        "                                        class_mode=None,\n",
        "                                        shuffle=False)\n",
        "\n",
        "validation_generator = bottleneck_datagen.flow_from_directory('/content/sample_data/data/validation/', \n",
        "                                                              target_size=(116, 116),\n",
        "                                                               batch_size=32,\n",
        "                                                               class_mode=None,\n",
        "                                                               shuffle=False)"
      ],
      "metadata": {
        "colab": {
          "base_uri": "https://localhost:8080/"
        },
        "id": "ECLPig0PX6t_",
        "outputId": "4eaf388b-0351-41b0-e749-7845cc86b9be"
      },
      "execution_count": 28,
      "outputs": [
        {
          "output_type": "stream",
          "name": "stdout",
          "text": [
            "Found 15120 images belonging to 2 classes.\n",
            "Found 3778 images belonging to 2 classes.\n"
          ]
        }
      ]
    },
    {
      "cell_type": "code",
      "source": [
        "ls -al /content/sample_data"
      ],
      "metadata": {
        "colab": {
          "base_uri": "https://localhost:8080/"
        },
        "id": "WS_-v6IyX62A",
        "outputId": "e53ee88f-bb76-4dba-a4fb-427764aa53e9"
      },
      "execution_count": 27,
      "outputs": [
        {
          "output_type": "stream",
          "name": "stdout",
          "text": [
            "total 224268\n",
            "drwxr-xr-x 1 root root      4096 Jun  7 16:45 \u001b[0m\u001b[01;34m.\u001b[0m/\n",
            "drwxr-xr-x 1 root root      4096 Jun  1 13:50 \u001b[01;34m..\u001b[0m/\n",
            "-rwxr-xr-x 1 root root      1697 Jan  1  2000 \u001b[01;32manscombe.json\u001b[0m*\n",
            "-rw-r--r-- 1 root root    301141 Jun  1 13:50 california_housing_test.csv\n",
            "-rw-r--r-- 1 root root   1706430 Jun  1 13:50 california_housing_train.csv\n",
            "drwxr-xr-x 4 root root      4096 Jun  7 00:42 \u001b[01;34mdata\u001b[0m/\n",
            "-rw-r--r-- 1 root root 172790151 Jun  7 15:54 data.zip\n",
            "-rw-r--r-- 1 root root  18289443 Jun  1 13:50 mnist_test.csv\n",
            "-rw-r--r-- 1 root root  36523880 Jun  1 13:50 mnist_train_small.csv\n",
            "-rwxr-xr-x 1 root root       930 Jan  1  2000 \u001b[01;32mREADME.md\u001b[0m*\n"
          ]
        }
      ]
    },
    {
      "cell_type": "code",
      "source": [
        ""
      ],
      "metadata": {
        "id": "cK9h69B7X67z"
      },
      "execution_count": null,
      "outputs": []
    },
    {
      "cell_type": "code",
      "source": [
        ""
      ],
      "metadata": {
        "id": "BgCGAA4ZX6-V"
      },
      "execution_count": null,
      "outputs": []
    },
    {
      "cell_type": "code",
      "source": [
        ""
      ],
      "metadata": {
        "id": "iyI0kl9PX7FL"
      },
      "execution_count": null,
      "outputs": []
    }
  ]
}